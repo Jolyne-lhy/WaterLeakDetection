{
 "cells": [
  {
   "cell_type": "markdown",
   "metadata": {
    "id": "etniX_KTlJ5U"
   },
   "source": [
    "# 1D-CAE Trainer"
   ]
  },
  {
   "cell_type": "markdown",
   "metadata": {
    "id": "N3jM0qLU8MgZ"
   },
   "source": [
    "## Environment"
   ]
  },
  {
   "cell_type": "code",
   "execution_count": 1,
   "metadata": {
    "id": "6u1DGKsAlLF-"
   },
   "outputs": [],
   "source": [
    "import numpy as np\n",
    "import pandas as pd\n",
    "import matplotlib.pyplot as plt\n",
    "import torch\n",
    "import torch.nn as nn\n",
    "from sklearn.preprocessing import StandardScaler\n",
    "\n",
    "from utils import *\n",
    "from cnn import *"
   ]
  },
  {
   "cell_type": "code",
   "execution_count": 3,
   "metadata": {
    "colab": {
     "base_uri": "https://localhost:8080/",
     "height": 34
    },
    "id": "4AzWlDBI_djV",
    "outputId": "7a8d0c19-2389-461b-c0be-3427a25dda91"
   },
   "outputs": [
    {
     "name": "stdout",
     "output_type": "stream",
     "text": [
      "GPU 0: NVIDIA GeForce RTX 3080 Ti (UUID: GPU-cc4a2c82-60e7-0610-b3c0-3895550912f6)\r\n",
      "GPU 1: NVIDIA GeForce RTX 3080 Ti (UUID: GPU-f3c6115e-46cd-6ccc-eedb-5f06a170552d)\r\n"
     ]
    }
   ],
   "source": [
    "!nvidia-smi -L\n",
    "\n",
    "device = get_default_device()"
   ]
  },
  {
   "cell_type": "markdown",
   "metadata": {
    "id": "1crx5rGP9ONf"
   },
   "source": [
    "## Data Pre-Processing"
   ]
  },
  {
   "cell_type": "markdown",
   "metadata": {},
   "source": [
    "### Read scada"
   ]
  },
  {
   "cell_type": "code",
   "execution_count": 4,
   "metadata": {},
   "outputs": [],
   "source": [
    "freq = '5min' # 5min"
   ]
  },
  {
   "cell_type": "code",
   "execution_count": 2,
   "metadata": {},
   "outputs": [
    {
     "name": "stdout",
     "output_type": "stream",
     "text": [
      "Directory 'model_savings' already created.\n"
     ]
    }
   ],
   "source": [
    "zone_name = 'zone7'\n",
    "save_path = 'model_savings'\n",
    "check_and_create_directory(save_path)"
   ]
  },
  {
   "cell_type": "code",
   "execution_count": 5,
   "metadata": {},
   "outputs": [],
   "source": [
    "data_path = './data/l-town-data/2019_SCADA_Pressures.csv'"
   ]
  },
  {
   "cell_type": "code",
   "execution_count": 6,
   "metadata": {},
   "outputs": [],
   "source": [
    "sensors_list = {\n",
    "\n",
    "'zone1' : ['n1','n4','n31'],\n",
    "\n",
    "'zone2' : ['n410','n429'],\n",
    "\n",
    "'zone3' : ['n342','n636','n644'],\n",
    "\n",
    "'zone4' : ['n296','n679','n722','n740'],\n",
    "\n",
    "'zone5' : ['n288','n726','n752','n769'],\n",
    "\n",
    "'zone6' : ['n215','n229'],\n",
    "\n",
    "'zone7' : ['n163','n188','n613'],\n",
    "\n",
    "'zone8' : ['n332','n495','n506','n549'],\n",
    "\n",
    "'zone9' : ['n105','n114','n469', 'n516'],\n",
    "\n",
    "'zone10' : ['n54','n415','n458', 'n519']\n",
    "    \n",
    "}"
   ]
  },
  {
   "cell_type": "code",
   "execution_count": 7,
   "metadata": {},
   "outputs": [],
   "source": [
    "zone_sensors = sensors_list[zone_name]"
   ]
  },
  {
   "cell_type": "code",
   "execution_count": 8,
   "metadata": {
    "colab": {
     "base_uri": "https://localhost:8080/",
     "height": 87
    },
    "id": "aN_TFp5x9uTE",
    "outputId": "38d7993d-c9a3-461d-c430-ebde697afbc6"
   },
   "outputs": [],
   "source": [
    "#Read data\n",
    "scada = pd.read_csv(data_path, sep=';', decimal=',', index_col='Timestamp')#, nrows=1000)\n",
    "scada.index = pd.date_range(start=scada.index[0], periods=len(scada), freq=freq)\n",
    "scada = scada.loc[:, zone_sensors]"
   ]
  },
  {
   "cell_type": "markdown",
   "metadata": {},
   "source": [
    "### Data proprocess"
   ]
  },
  {
   "cell_type": "code",
   "execution_count": 11,
   "metadata": {},
   "outputs": [],
   "source": [
    "start_time = pd.Timestamp('2019-01-01 00:00')\n",
    "split_time = pd.Timestamp('2019-01-15 00:00')"
   ]
  },
  {
   "cell_type": "code",
   "execution_count": 12,
   "metadata": {},
   "outputs": [],
   "source": [
    "train = scada[start_time:split_time]"
   ]
  },
  {
   "cell_type": "code",
   "execution_count": 13,
   "metadata": {},
   "outputs": [],
   "source": [
    "scaler = StandardScaler()\n",
    "x_scaled = scaler.fit_transform(train)\n",
    "train = pd.DataFrame(x_scaled)"
   ]
  },
  {
   "cell_type": "markdown",
   "metadata": {
    "id": "xXJi503b-j_d"
   },
   "source": [
    "### Sliding window"
   ]
  },
  {
   "cell_type": "code",
   "execution_count": 14,
   "metadata": {
    "id": "vyplttZa-BRN"
   },
   "outputs": [],
   "source": [
    "window_size=288\n",
    "step = 1"
   ]
  },
  {
   "cell_type": "code",
   "execution_count": 15,
   "metadata": {
    "colab": {
     "base_uri": "https://localhost:8080/",
     "height": 34
    },
    "id": "dzGJMp6Y-BN5",
    "outputId": "2949d278-1313-442c-f06b-275a8c6c6578"
   },
   "outputs": [
    {
     "data": {
      "text/plain": [
       "(3745, 3, 288)"
      ]
     },
     "execution_count": 15,
     "metadata": {},
     "output_type": "execute_result"
    }
   ],
   "source": [
    "windows_train=train.values[np.arange(window_size)[None, :] + np.arange(train.shape[0]-window_size)[::step, None]]\n",
    "windows_train = windows_train.swapaxes(1,2)\n",
    "windows_train.shape"
   ]
  },
  {
   "cell_type": "markdown",
   "metadata": {
    "id": "k70ZFxGs-_7m"
   },
   "source": [
    "## Training"
   ]
  },
  {
   "cell_type": "code",
   "execution_count": 17,
   "metadata": {},
   "outputs": [],
   "source": [
    "import torch.utils.data as data_utils\n",
    "\n",
    "BATCH_SIZE = 144\n",
    "N_EPOCHS = 100\n",
    "\n",
    "feature_size=windows_train.shape[1]\n",
    "seq_len=windows_train.shape[2]\n",
    "\n",
    "windows_train_train = windows_train[:int(np.floor(.8 *  windows_train.shape[0]))]\n",
    "windows_train_val = windows_train[int(np.floor(.8 *  windows_train.shape[0])):int(np.floor(windows_train.shape[0]))]\n",
    "\n",
    "train_loader = torch.utils.data.DataLoader(data_utils.TensorDataset(\n",
    "    torch.from_numpy(windows_train_train).float()\n",
    ") , batch_size=BATCH_SIZE, shuffle=True, num_workers=4)\n",
    "\n",
    "val_loader = torch.utils.data.DataLoader(data_utils.TensorDataset(\n",
    "    torch.from_numpy(windows_train_val).float()\n",
    ") , batch_size=BATCH_SIZE, shuffle=True, num_workers=4)\n",
    "\n",
    "model = CNN(feature_size, seq_len)\n",
    "model = to_device(model,device)"
   ]
  },
  {
   "cell_type": "code",
   "execution_count": 20,
   "metadata": {
    "colab": {
     "base_uri": "https://localhost:8080/",
     "height": 1000
    },
    "id": "So9yjDPEDObC",
    "outputId": "629bcd13-37b1-4907-ef0d-46d9e3ad5398",
    "scrolled": true
   },
   "outputs": [
    {
     "name": "stdout",
     "output_type": "stream",
     "text": [
      "Epoch [1], trn_loss: 0.0904, val_loss: 0.0858\n",
      "Epoch [2], trn_loss: 0.0689, val_loss: 0.0638\n",
      "Epoch [3], trn_loss: 0.0582, val_loss: 0.0532\n",
      "Epoch [4], trn_loss: 0.0499, val_loss: 0.0467\n",
      "Epoch [5], trn_loss: 0.0441, val_loss: 0.0414\n",
      "Epoch [6], trn_loss: 0.0404, val_loss: 0.0385\n",
      "Epoch [7], trn_loss: 0.0381, val_loss: 0.0363\n",
      "Epoch [8], trn_loss: 0.0364, val_loss: 0.0338\n",
      "Epoch [9], trn_loss: 0.0349, val_loss: 0.0325\n",
      "Epoch [10], trn_loss: 0.0335, val_loss: 0.0310\n",
      "Epoch [11], trn_loss: 0.0322, val_loss: 0.0301\n",
      "Epoch [12], trn_loss: 0.0313, val_loss: 0.0288\n",
      "Epoch [13], trn_loss: 0.0308, val_loss: 0.0287\n",
      "Epoch [14], trn_loss: 0.0295, val_loss: 0.0273\n",
      "Epoch [15], trn_loss: 0.0292, val_loss: 0.0270\n",
      "Epoch [16], trn_loss: 0.0290, val_loss: 0.0268\n",
      "Epoch [17], trn_loss: 0.0285, val_loss: 0.0262\n",
      "Epoch [18], trn_loss: 0.0283, val_loss: 0.0263\n",
      "Epoch [19], trn_loss: 0.0279, val_loss: 0.0257\n",
      "Epoch [20], trn_loss: 0.0276, val_loss: 0.0255\n",
      "Epoch [21], trn_loss: 0.0272, val_loss: 0.0248\n",
      "Epoch [22], trn_loss: 0.0267, val_loss: 0.0244\n",
      "Epoch [23], trn_loss: 0.0260, val_loss: 0.0237\n",
      "Epoch [24], trn_loss: 0.0255, val_loss: 0.0234\n",
      "Epoch [25], trn_loss: 0.0251, val_loss: 0.0228\n",
      "Epoch [26], trn_loss: 0.0247, val_loss: 0.0224\n",
      "Epoch [27], trn_loss: 0.0242, val_loss: 0.0222\n",
      "Epoch [28], trn_loss: 0.0242, val_loss: 0.0221\n",
      "Epoch [29], trn_loss: 0.0234, val_loss: 0.0215\n",
      "Epoch [30], trn_loss: 0.0230, val_loss: 0.0212\n",
      "Epoch [31], trn_loss: 0.0228, val_loss: 0.0211\n",
      "Epoch [32], trn_loss: 0.0225, val_loss: 0.0209\n",
      "Epoch [33], trn_loss: 0.0221, val_loss: 0.0203\n",
      "Epoch [34], trn_loss: 0.0220, val_loss: 0.0203\n",
      "Epoch [35], trn_loss: 0.0217, val_loss: 0.0199\n",
      "Epoch [36], trn_loss: 0.0213, val_loss: 0.0199\n",
      "Epoch [37], trn_loss: 0.0212, val_loss: 0.0196\n",
      "Epoch [38], trn_loss: 0.0212, val_loss: 0.0197\n",
      "Epoch [39], trn_loss: 0.0204, val_loss: 0.0189\n",
      "Epoch [40], trn_loss: 0.0200, val_loss: 0.0186\n",
      "Epoch [41], trn_loss: 0.0201, val_loss: 0.0186\n",
      "Epoch [42], trn_loss: 0.0193, val_loss: 0.0181\n",
      "Epoch [43], trn_loss: 0.0187, val_loss: 0.0176\n",
      "Epoch [44], trn_loss: 0.0183, val_loss: 0.0173\n",
      "Epoch [45], trn_loss: 0.0179, val_loss: 0.0171\n",
      "Epoch [46], trn_loss: 0.0172, val_loss: 0.0165\n",
      "Epoch [47], trn_loss: 0.0165, val_loss: 0.0160\n",
      "Epoch [48], trn_loss: 0.0155, val_loss: 0.0151\n",
      "Epoch [49], trn_loss: 0.0149, val_loss: 0.0148\n",
      "Epoch [50], trn_loss: 0.0147, val_loss: 0.0148\n",
      "Epoch [51], trn_loss: 0.0128, val_loss: 0.0131\n",
      "Epoch [52], trn_loss: 0.0121, val_loss: 0.0125\n",
      "Epoch [53], trn_loss: 0.0113, val_loss: 0.0119\n",
      "Epoch [54], trn_loss: 0.0106, val_loss: 0.0113\n",
      "Epoch [55], trn_loss: 0.0114, val_loss: 0.0120\n",
      "Epoch [56], trn_loss: 0.0099, val_loss: 0.0107\n",
      "Epoch [57], trn_loss: 0.0092, val_loss: 0.0099\n",
      "Epoch [58], trn_loss: 0.0089, val_loss: 0.0096\n",
      "Epoch [59], trn_loss: 0.0084, val_loss: 0.0092\n",
      "Epoch [60], trn_loss: 0.0081, val_loss: 0.0089\n",
      "Epoch [61], trn_loss: 0.0078, val_loss: 0.0085\n",
      "Epoch [62], trn_loss: 0.0075, val_loss: 0.0083\n",
      "Epoch [63], trn_loss: 0.0072, val_loss: 0.0080\n",
      "Epoch [64], trn_loss: 0.0073, val_loss: 0.0079\n",
      "Epoch [65], trn_loss: 0.0070, val_loss: 0.0077\n",
      "Epoch [66], trn_loss: 0.0070, val_loss: 0.0076\n",
      "Epoch [67], trn_loss: 0.0065, val_loss: 0.0072\n",
      "Epoch [68], trn_loss: 0.0066, val_loss: 0.0072\n",
      "Epoch [69], trn_loss: 0.0065, val_loss: 0.0073\n",
      "Epoch [70], trn_loss: 0.0062, val_loss: 0.0068\n",
      "Epoch [71], trn_loss: 0.0058, val_loss: 0.0065\n",
      "Epoch [72], trn_loss: 0.0058, val_loss: 0.0064\n",
      "Epoch [73], trn_loss: 0.0057, val_loss: 0.0064\n",
      "Epoch [74], trn_loss: 0.0074, val_loss: 0.0081\n",
      "Epoch [75], trn_loss: 0.0055, val_loss: 0.0061\n",
      "Epoch [76], trn_loss: 0.0054, val_loss: 0.0059\n",
      "Epoch [77], trn_loss: 0.0053, val_loss: 0.0059\n",
      "Epoch [78], trn_loss: 0.0052, val_loss: 0.0058\n",
      "Epoch [79], trn_loss: 0.0053, val_loss: 0.0058\n",
      "Epoch [80], trn_loss: 0.0053, val_loss: 0.0058\n",
      "Epoch [81], trn_loss: 0.0051, val_loss: 0.0055\n",
      "Epoch [82], trn_loss: 0.0050, val_loss: 0.0055\n",
      "Epoch [83], trn_loss: 0.0049, val_loss: 0.0053\n",
      "Epoch [84], trn_loss: 0.0048, val_loss: 0.0052\n",
      "Epoch [85], trn_loss: 0.0051, val_loss: 0.0055\n",
      "Epoch [86], trn_loss: 0.0047, val_loss: 0.0051\n",
      "Epoch [87], trn_loss: 0.0046, val_loss: 0.0050\n",
      "Epoch [88], trn_loss: 0.0047, val_loss: 0.0051\n",
      "Epoch [89], trn_loss: 0.0047, val_loss: 0.0050\n",
      "Epoch [90], trn_loss: 0.0046, val_loss: 0.0049\n",
      "Epoch [91], trn_loss: 0.0044, val_loss: 0.0047\n",
      "Epoch [92], trn_loss: 0.0046, val_loss: 0.0049\n",
      "Epoch [93], trn_loss: 0.0047, val_loss: 0.0049\n",
      "Epoch [94], trn_loss: 0.0044, val_loss: 0.0047\n",
      "Epoch [95], trn_loss: 0.0042, val_loss: 0.0045\n",
      "Epoch [96], trn_loss: 0.0049, val_loss: 0.0051\n",
      "Epoch [97], trn_loss: 0.0043, val_loss: 0.0046\n",
      "Epoch [98], trn_loss: 0.0040, val_loss: 0.0043\n",
      "Epoch [99], trn_loss: 0.0041, val_loss: 0.0044\n",
      "Epoch [100], trn_loss: 0.0041, val_loss: 0.0043\n"
     ]
    }
   ],
   "source": [
    "history = training(N_EPOCHS,model,train_loader,val_loader, f'./{save_path}/{zone_name}.pth')"
   ]
  },
  {
   "cell_type": "code",
   "execution_count": 21,
   "metadata": {
    "colab": {
     "base_uri": "https://localhost:8080/",
     "height": 295
    },
    "id": "fYwlN0JKVVtN",
    "outputId": "c742ff8b-3b4a-41f5-dd09-effee1be928a",
    "scrolled": true
   },
   "outputs": [
    {
     "data": {
      "image/png": "[encoded data removed]",
      "text/plain": [
       "<Figure size 640x480 with 1 Axes>"
      ]
     },
     "metadata": {},
     "output_type": "display_data"
    }
   ],
   "source": [
    "plot_history_cnn(history, zone_name)"
   ]
  },
  {
   "cell_type": "code",
   "execution_count": null,
   "metadata": {},
   "outputs": [],
   "source": []
  }
 ],
 "metadata": {
  "accelerator": "GPU",
  "colab": {
   "name": "USAD_test.ipynb",
   "provenance": [],
   "toc_visible": true
  },
  "kernelspec": {
   "display_name": "Python 3 (ipykernel)",
   "language": "python",
   "name": "python3"
  },
  "language_info": {
   "codemirror_mode": {
    "name": "ipython",
    "version": 3
   },
   "file_extension": ".py",
   "mimetype": "text/x-python",
   "name": "python",
   "nbconvert_exporter": "python",
   "pygments_lexer": "ipython3",
   "version": "3.8.11"
  }
 },
 "nbformat": 4,
 "nbformat_minor": 1
}
